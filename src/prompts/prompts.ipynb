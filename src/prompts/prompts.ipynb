{
 "cells": [
  {
   "cell_type": "markdown",
   "metadata": {},
   "source": [
    "# **Notebook for Prompts (using Langchain, Outputparser, ...)**"
   ]
  },
  {
   "cell_type": "code",
   "execution_count": 1,
   "metadata": {},
   "outputs": [],
   "source": [
    "import os\n",
    "from dotenv import load_dotenv, find_dotenv\n",
    "\n",
    "import openai\n",
    "from langchain.chat_models import ChatOpenAI\n",
    "from langchain.output_parsers import ResponseSchema\n",
    "from langchain.output_parsers import StructuredOutputParser\n",
    "from langchain.prompts import ChatPromptTemplate"
   ]
  },
  {
   "cell_type": "code",
   "execution_count": null,
   "metadata": {},
   "outputs": [],
   "source": [
    "_ = load_dotenv(find_dotenv()) # read local .env file\n",
    "\n",
    "import warnings\n",
    "warnings.filterwarnings('ignore')\n",
    "\n",
    "llm_model = \"gpt-3.5-turbo\""
   ]
  },
  {
   "cell_type": "code",
   "execution_count": null,
   "metadata": {},
   "outputs": [],
   "source": [
    "def get_completion(prompt, model=llm_model):\n",
    "    messages = [{\"role\": \"user\", \"content\": prompt}]\n",
    "    response = openai.ChatCompletion.create(\n",
    "        model=model,\n",
    "        messages=messages,\n",
    "        temperature=0, \n",
    "    )\n",
    "    return response.choices[0].message[\"content\"]\n",
    "\n",
    "get_completion(\"Hi\",)"
   ]
  },
  {
   "cell_type": "code",
   "execution_count": null,
   "metadata": {},
   "outputs": [],
   "source": [
    "chat = ChatOpenAI(temperature=0.0, model=llm_model)\n",
    "chat"
   ]
  },
  {
   "cell_type": "code",
   "execution_count": 2,
   "metadata": {},
   "outputs": [],
   "source": [
    "def read_txt(file_path):\n",
    "    \"\"\"\n",
    "    Reads text from a file located at 'file_path' and returns it as a string.\n",
    "\n",
    "    :param file_path: Path to the text file.\n",
    "    :return: String containing the contents of the file.\n",
    "    \"\"\"\n",
    "    try:\n",
    "        with open(file_path, 'r') as file:\n",
    "            return file.read()\n",
    "    except IOError:\n",
    "        return \"Error: File not found or cannot be read.\""
   ]
  },
  {
   "cell_type": "markdown",
   "metadata": {},
   "source": [
    "## **Backend**"
   ]
  },
  {
   "cell_type": "markdown",
   "metadata": {},
   "source": [
    "### Backend Dev"
   ]
  },
  {
   "cell_type": "code",
   "execution_count": 3,
   "metadata": {},
   "outputs": [],
   "source": [
    "# prompt components\n",
    "prompt_txt = read_txt('database_dev.txt')\n",
    "database_dev_schema_1 = ResponseSchema(name=\"code\",\n",
    "                             description=\"SQL Statements you wrote for the task.\")\n",
    "orchestrator_db = \"Schema for a newsletter signup page.\" # Example\n",
    "\n",
    "# define ouput parser\n",
    "response_schemas = [database_dev_schema_1]\n",
    "output_parser = StructuredOutputParser.from_response_schemas(response_schemas)\n",
    "format_instructions = output_parser.get_format_instructions()\n",
    "\n",
    "# make prompt \n",
    "prompt = ChatPromptTemplate.from_template(template=prompt_txt)\n",
    "backend_dev_prompt = prompt.format_messages(format_instructions=format_instructions,\n",
    "                                 orchestrator_db = orchestrator_db)"
   ]
  },
  {
   "cell_type": "code",
   "execution_count": 4,
   "metadata": {},
   "outputs": [
    {
     "name": "stdout",
     "output_type": "stream",
     "text": [
      "You are a software developer specialized in databases. It is your responsibility to write correct and high quality SQL statements for different projects. You will be provided with several requirements your manager came up with based on some user request. It is now your task to provide the data definition language that fulfill these requirements. You should there for output the necessary SQL statements that create the tables for the database as well as any other SQL statements that are needed. These are the requirements:\n",
      "Schema for a newsletter signup page.\n",
      "The output should be a markdown code snippet formatted in the following schema, including the leading and trailing \"```json\" and \"```\":\n",
      "\n",
      "```json\n",
      "{\n",
      "\t\"code\": string  // SQL Statements you wrote for the task.\n",
      "}\n",
      "```\n"
     ]
    }
   ],
   "source": [
    "backend_dev_prompt_str = backend_dev_prompt[0].content\n",
    "print(backend_dev_prompt_str)"
   ]
  },
  {
   "cell_type": "code",
   "execution_count": null,
   "metadata": {},
   "outputs": [],
   "source": [
    "# this is how a response would be parsed to get values\n",
    "response = chat(backend_dev_prompt)\n",
    "output_dict = output_parser.parse(response.content)\n",
    "output_dict[\"code\"]"
   ]
  },
  {
   "cell_type": "markdown",
   "metadata": {},
   "source": [
    "### Backend Test"
   ]
  },
  {
   "cell_type": "code",
   "execution_count": 5,
   "metadata": {},
   "outputs": [],
   "source": [
    "# prompt components\n",
    "prompt_txt = read_txt('backend_test.txt')\n",
    "database_test_schema_1 = ResponseSchema(name=\"revision_needed\",\n",
    "                                        description=\"Based on your evaluation, are there any errors that need to be fixed? Answer True if yes, False if no.\")\n",
    "database_test_schema_2 = ResponseSchema(name=\"feedback\",\n",
    "                                        description=\"Report with your analysis of the code.\")\n",
    "\n",
    "backend_code = \"No code\"\n",
    "backend_logs = \"No errors\"\n",
    "\n",
    "# define ouput parser\n",
    "response_schemas = [database_test_schema_1,database_test_schema_2]\n",
    "output_parser = StructuredOutputParser.from_response_schemas(response_schemas)\n",
    "format_instructions = output_parser.get_format_instructions()\n",
    "\n",
    "# make prompt \n",
    "prompt = ChatPromptTemplate.from_template(template=prompt_txt)\n",
    "backend_test_prompt = prompt.format_messages(format_instructions=format_instructions,\n",
    "                                 backend_code = backend_code,\n",
    "                                 backend_logs = backend_logs)"
   ]
  },
  {
   "cell_type": "code",
   "execution_count": 6,
   "metadata": {},
   "outputs": [
    {
     "name": "stdout",
     "output_type": "stream",
     "text": [
      "You are a software developer specialized in testing backend systems and it is your responsibility to check code for errors or mistakes. You will be provided with some code that is used to interact with a database as well as some error logs if there are any. \n",
      "This is the code you have to check:\n",
      "No code\n",
      "\n",
      "These are the error logs:\n",
      "No errors\n",
      "\n",
      "Based on this code write a report and point out any mistakes or errors you have found. Explain them and suggest how they could be corrected. Only point errors, mistakes or things that are incorrect and do not talk about things that are well done. It is possible that there are no errors or bad practices in which case your report will be empty.\n",
      "The output should be a markdown code snippet formatted in the following schema, including the leading and trailing \"```json\" and \"```\":\n",
      "\n",
      "```json\n",
      "{\n",
      "\t\"revision_needed\": string  // Based on your evaluation, are there any errors that need to be fixed? Answer True if yes, False if no.\n",
      "\t\"feedback\": string  // Report with your analysis of the code.\n",
      "}\n",
      "```\n"
     ]
    }
   ],
   "source": [
    "backend_test_prompt_str = backend_test_prompt[0].content\n",
    "print(backend_test_prompt_str)"
   ]
  },
  {
   "cell_type": "markdown",
   "metadata": {},
   "source": [
    "### Backend Doc"
   ]
  },
  {
   "cell_type": "code",
   "execution_count": 7,
   "metadata": {},
   "outputs": [],
   "source": [
    "# prompt components\n",
    "prompt_txt = read_txt('backend_doc.txt')\n",
    "database_doc_schema_1 = ResponseSchema(name=\"documentation\",\n",
    "                                        description=\"The documentation of the code.\")\n",
    "\n",
    "backend_code = \"No code\"\n",
    "\n",
    "# define ouput parser\n",
    "response_schemas = [database_doc_schema_1]\n",
    "output_parser = StructuredOutputParser.from_response_schemas(response_schemas)\n",
    "format_instructions = output_parser.get_format_instructions()\n",
    "\n",
    "# make prompt \n",
    "prompt = ChatPromptTemplate.from_template(template=prompt_txt)\n",
    "backend_doc_prompt = prompt.format_messages(format_instructions=format_instructions,\n",
    "                                 backend_code = backend_code)"
   ]
  },
  {
   "cell_type": "code",
   "execution_count": 8,
   "metadata": {},
   "outputs": [
    {
     "name": "stdout",
     "output_type": "stream",
     "text": [
      "You are a specialist for writing a documentation for code. It is your responsibility to analyze some given code and write a short description, so that someone else can understand what functionalities there are. You will be provided with some code that is used to access a database. It is your task to write a short documentation that describes what functions there are and what they are capable of. Explicitly point out what URL endpoints there are.\n",
      "This is the code:\n",
      "No code\n",
      "The output should be a markdown code snippet formatted in the following schema, including the leading and trailing \"```json\" and \"```\":\n",
      "\n",
      "```json\n",
      "{\n",
      "\t\"documentation\": string  // The documentation of the code.\n",
      "}\n",
      "```\n"
     ]
    }
   ],
   "source": [
    "backend_doc_prompt_str = backend_doc_prompt[0].content\n",
    "print(backend_doc_prompt_str)"
   ]
  }
 ],
 "metadata": {
  "kernelspec": {
   "display_name": "venv",
   "language": "python",
   "name": "python3"
  },
  "language_info": {
   "codemirror_mode": {
    "name": "ipython",
    "version": 3
   },
   "file_extension": ".py",
   "mimetype": "text/x-python",
   "name": "python",
   "nbconvert_exporter": "python",
   "pygments_lexer": "ipython3",
   "version": "3.10.0"
  }
 },
 "nbformat": 4,
 "nbformat_minor": 2
}
