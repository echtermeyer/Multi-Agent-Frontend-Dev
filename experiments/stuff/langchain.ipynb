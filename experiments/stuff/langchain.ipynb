{
 "cells": [
  {
   "cell_type": "code",
   "execution_count": 1,
   "metadata": {},
   "outputs": [],
   "source": [
    "import os\n",
    "import openai\n",
    "\n",
    "from pathlib import Path\n",
    "from dotenv import load_dotenv\n",
    "\n",
    "from langchain.chains import LLMChain\n",
    "from langchain.chat_models import ChatOpenAI\n",
    "from langchain.memory import ConversationBufferMemory\n",
    "from langchain.schema.messages import HumanMessage, AIMessage, SystemMessage\n",
    "\n",
    "from langchain.prompts import (\n",
    "    ChatPromptTemplate,\n",
    "    HumanMessagePromptTemplate,\n",
    "    MessagesPlaceholder,\n",
    "    SystemMessagePromptTemplate,\n",
    ")\n",
    "\n",
    "load_dotenv()\n",
    "openai.organization = os.getenv(\"OPENAI_ORG\")\n",
    "openai.api_key = os.getenv(\"OPENAI_API_KEY\")"
   ]
  },
  {
   "cell_type": "code",
   "execution_count": 3,
   "metadata": {},
   "outputs": [
    {
     "data": {
      "text/plain": [
       "<__main__.Agent at 0x1275378f0>"
      ]
     },
     "execution_count": 3,
     "metadata": {},
     "output_type": "execute_result"
    }
   ],
   "source": [
    "class Agent:\n",
    "    def __init__(self) -> None:\n",
    "        self.chain: LLMChain = self.__setup_chain(\"gpt-3.5-turbo-1106\", 0.0)\n",
    "\n",
    "\n",
    "    def __setup_chain(self, model: str, temperature: float) -> LLMChain:\n",
    "        llm = ChatOpenAI(\n",
    "            model_name=model,\n",
    "            temperature=temperature,\n",
    "        )\n",
    "\n",
    "        prompt = ChatPromptTemplate(\n",
    "            messages=[\n",
    "                SystemMessagePromptTemplate.from_template(\"hello\"),\n",
    "                MessagesPlaceholder(variable_name=\"chat_history\"),\n",
    "                HumanMessagePromptTemplate.from_template(\"{message}\"),\n",
    "            ]\n",
    "        )\n",
    "\n",
    "        memory = ConversationBufferMemory(\n",
    "            memory_key=\"chat_history\", return_messages=True\n",
    "        )\n",
    "\n",
    "        return LLMChain(llm=llm, prompt=prompt, verbose=False, memory=memory)\n",
    "    \n",
    "    def __inject_message(self, text: str, kind: str = \"human\") -> None:\n",
    "        if kind == \"human\":\n",
    "            message = HumanMessage(content=text)\n",
    "        elif kind == \"ai\":\n",
    "            message = AIMessage(content=text)\n",
    "        elif kind == \"system\":\n",
    "            message = SystemMessage(content=text)\n",
    "        else:\n",
    "            raise ValueError(\"This message type is not supported. Use one of ['human', 'ai', 'system']\")\n",
    "\n",
    "agent = Agent()\n",
    "agent"
   ]
  },
  {
   "cell_type": "code",
   "execution_count": 6,
   "metadata": {},
   "outputs": [],
   "source": [
    "message = HumanMessage(content=\"klfjöads\")"
   ]
  },
  {
   "cell_type": "code",
   "execution_count": 12,
   "metadata": {},
   "outputs": [],
   "source": [
    "agent.chain.memory.chat_memory.add_message(message)"
   ]
  },
  {
   "cell_type": "code",
   "execution_count": 13,
   "metadata": {},
   "outputs": [
    {
     "data": {
      "text/plain": [
       "ChatMessageHistory(messages=[HumanMessage(content='klfjöads')])"
      ]
     },
     "execution_count": 13,
     "metadata": {},
     "output_type": "execute_result"
    }
   ],
   "source": [
    "agent.chain.memory.chat_memory"
   ]
  },
  {
   "cell_type": "code",
   "execution_count": null,
   "metadata": {},
   "outputs": [],
   "source": [
    "agent.chain.memory.append(message)"
   ]
  }
 ],
 "metadata": {
  "kernelspec": {
   "display_name": "pems-sf-Wd5VkiMD-py3.12",
   "language": "python",
   "name": "python3"
  },
  "language_info": {
   "codemirror_mode": {
    "name": "ipython",
    "version": 3
   },
   "file_extension": ".py",
   "mimetype": "text/x-python",
   "name": "python",
   "nbconvert_exporter": "python",
   "pygments_lexer": "ipython3",
   "version": "3.12.0"
  },
  "orig_nbformat": 4
 },
 "nbformat": 4,
 "nbformat_minor": 2
}
