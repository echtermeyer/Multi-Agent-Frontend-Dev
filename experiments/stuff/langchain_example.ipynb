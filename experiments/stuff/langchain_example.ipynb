{
 "cells": [
  {
   "cell_type": "code",
   "execution_count": 19,
   "metadata": {},
   "outputs": [],
   "source": [
    "import os\n",
    "import openai\n",
    "\n",
    "from pathlib import Path\n",
    "from dotenv import load_dotenv\n",
    "\n",
    "from langchain.chains import LLMChain\n",
    "from langchain.chat_models import ChatOpenAI\n",
    "from langchain.memory import ConversationBufferMemory\n",
    "from langchain.schema.messages import HumanMessage, AIMessage, SystemMessage\n",
    "\n",
    "from langchain.prompts import (\n",
    "    ChatPromptTemplate,\n",
    "    HumanMessagePromptTemplate,\n",
    "    MessagesPlaceholder,\n",
    "    SystemMessagePromptTemplate,\n",
    "    PromptTemplate\n",
    ")\n",
    "\n",
    "load_dotenv()\n",
    "# openai.organization = os.getenv(\"OPENAI_ORG\")\n",
    "# openai.api_key = os.getenv(\"OPENAI_API_KEY\")\n",
    "\n",
    "model = ChatOpenAI(\n",
    "            model_name=\"gpt-3.5-turbo-1106\",\n",
    "            temperature=0,\n",
    "            openai_api_key=\"123\"\n",
    "        )"
   ]
  },
  {
   "cell_type": "code",
   "execution_count": 20,
   "metadata": {},
   "outputs": [
    {
     "data": {
      "text/plain": [
       "LLMChain(prompt=ChatPromptTemplate(input_variables=['var_one', 'var_two'], messages=[HumanMessagePromptTemplate(prompt=PromptTemplate(input_variables=['var_one', 'var_two'], template='This is a prompt with two vars: {var_one} and {var_two}'))]), llm=ChatOpenAI(client=<openai.resources.chat.completions.Completions object at 0x000002134F9E1300>, async_client=<openai.resources.chat.completions.AsyncCompletions object at 0x000002134F9ED390>, model_name='gpt-3.5-turbo-1106', temperature=0.0, openai_api_key='123', openai_proxy=''))"
      ]
     },
     "execution_count": 20,
     "metadata": {},
     "output_type": "execute_result"
    }
   ],
   "source": [
    "prompt_txt = \"This is a prompt with two vars: {var_one} and {var_two}\"\n",
    "\n",
    "prompt = ChatPromptTemplate.from_template(prompt_txt)\n",
    "\n",
    "chain = LLMChain(llm=model, prompt=prompt)\n",
    "\n",
    "chain"
   ]
  },
  {
   "cell_type": "code",
   "execution_count": null,
   "metadata": {},
   "outputs": [],
   "source": [
    "chain.run(var_one=\"ONE\", var_two=\"TWO\")\n",
    "\n",
    "# just pass the values as keywords arguments in the chain.run"
   ]
  }
 ],
 "metadata": {
  "kernelspec": {
   "display_name": "venv",
   "language": "python",
   "name": "python3"
  },
  "language_info": {
   "codemirror_mode": {
    "name": "ipython",
    "version": 3
   },
   "file_extension": ".py",
   "mimetype": "text/x-python",
   "name": "python",
   "nbconvert_exporter": "python",
   "pygments_lexer": "ipython3",
   "version": "3.10.0"
  }
 },
 "nbformat": 4,
 "nbformat_minor": 2
}
